{
  "cells": [
    {
      "cell_type": "code",
      "execution_count": null,
      "metadata": {
        "id": "H5aQBl83JWLJ"
      },
      "outputs": [],
      "source": [
        "!pip install boto3"
      ]
    },
    {
      "cell_type": "code",
      "execution_count": 8,
      "metadata": {
        "colab": {
          "base_uri": "https://localhost:8080/"
        },
        "id": "t2XXdkeCLdmQ",
        "outputId": "bcfbb574-b002-4ae1-a7c5-8cbb1683fcfb"
      },
      "outputs": [
        {
          "name": "stdout",
          "output_type": "stream",
          "text": [
            "{'ShardId': 'shardId-000000000002', 'SequenceNumber': '49633149633525043038453807377095758817319384640657555490', 'ResponseMetadata': {'RequestId': 'f25007b5-fcd5-414d-a9c5-bba8b5cea8c3', 'HTTPStatusCode': 200, 'HTTPHeaders': {'x-amzn-requestid': 'f25007b5-fcd5-414d-a9c5-bba8b5cea8c3', 'x-amz-id-2': 'J7JuR8//fzofNAHOCE89/ZCyKBufheaKma3ORQCyFU/psXqiFvAEHqBcMUi9muTYbSd6HLjBo2oMHh7fZ9mmPiaBzpQTjTMElxiBn38P4e0=', 'date': 'Fri, 09 Sep 2022 22:10:37 GMT', 'content-type': 'application/x-amz-json-1.1', 'content-length': '110'}, 'RetryAttempts': 0}}\n"
          ]
        }
      ],
      "source": [
        "import boto3\n",
        "import json\n",
        "\n",
        "cliente = boto3.client('kinesis',aws_access_key_id='<-- Key ID -->',aws_secret_access_key='<-- Secret Key -->',\n",
        "                       region_name='us-east-1')\n",
        "\n",
        "registro = {'idvendedor' : '991', 'nome' : 'Ana' }\n",
        "\n",
        "resposta = cliente.put_record(\n",
        "                  StreamName='stream1',\n",
        "                  Data = json.dumps(registro),\n",
        "                  PartitionKey='02'  \n",
        "                  )\n",
        "print(resposta)\n"
      ]
    },
    {
      "cell_type": "code",
      "execution_count": null,
      "metadata": {
        "id": "SI-E6K8PMR5h"
      },
      "outputs": [],
      "source": []
    }
  ],
  "metadata": {
    "colab": {
      "provenance": []
    },
    "kernelspec": {
      "display_name": "Python 3",
      "name": "python3"
    },
    "language_info": {
      "name": "python"
    }
  },
  "nbformat": 4,
  "nbformat_minor": 0
}
