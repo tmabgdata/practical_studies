{
  "cells": [
    {
      "cell_type": "markdown",
      "metadata": {
        "id": "cX4OcPK-01oc"
      },
      "source": [
        "### Instalar Biblioteca boto3 para se conectar ao AWS services"
      ]
    },
    {
      "cell_type": "code",
      "execution_count": null,
      "metadata": {
        "id": "WF_rhFRBzck4"
      },
      "outputs": [],
      "source": [
        "!pip install boto3"
      ]
    },
    {
      "cell_type": "markdown",
      "metadata": {
        "id": "WMkEjuj-1FtN"
      },
      "source": [
        "### Bibliotecas necessárias para execução do produtor"
      ]
    },
    {
      "cell_type": "code",
      "execution_count": 2,
      "metadata": {
        "id": "uwgYoglJz6eu"
      },
      "outputs": [],
      "source": [
        "import boto3\n",
        "import json\n",
        "from random import uniform\n",
        "import time\n",
        "from datetime import datetime"
      ]
    },
    {
      "cell_type": "markdown",
      "metadata": {
        "id": "B9a1dPi51blN"
      },
      "source": [
        "### Laço que gera dados aleatórios, simulando o sensor"
      ]
    },
    {
      "cell_type": "code",
      "execution_count": 11,
      "metadata": {
        "colab": {
          "base_uri": "https://localhost:8080/",
          "height": 200
        },
        "id": "gfHM9kTd0k2g",
        "outputId": "efd94441-9bb9-42dc-c103-e357b0d6cb15"
      },
      "outputs": [
        {
          "ename": "KeyboardInterrupt",
          "evalue": "ignored",
          "output_type": "error",
          "traceback": [
            "\u001b[0;31m---------------------------------------------------------------------------\u001b[0m",
            "\u001b[0;31mKeyboardInterrupt\u001b[0m                         Traceback (most recent call last)",
            "\u001b[0;32m<ipython-input-11-6e0e5b673ce6>\u001b[0m in \u001b[0;36m<cell line: 6>\u001b[0;34m()\u001b[0m\n\u001b[1;32m      9\u001b[0m   \u001b[0mregistro\u001b[0m \u001b[0;34m=\u001b[0m \u001b[0;34m{\u001b[0m\u001b[0;34m'idtemp'\u001b[0m \u001b[0;34m:\u001b[0m \u001b[0mstr\u001b[0m\u001b[0;34m(\u001b[0m\u001b[0mid\u001b[0m\u001b[0;34m)\u001b[0m\u001b[0;34m,\u001b[0m \u001b[0;34m'data'\u001b[0m \u001b[0;34m:\u001b[0m \u001b[0mstr\u001b[0m\u001b[0;34m(\u001b[0m\u001b[0mdados\u001b[0m\u001b[0;34m)\u001b[0m\u001b[0;34m,\u001b[0m \u001b[0;34m'type'\u001b[0m \u001b[0;34m:\u001b[0m \u001b[0;34m'powerfactor'\u001b[0m\u001b[0;34m,\u001b[0m \u001b[0;34m'timestamp'\u001b[0m \u001b[0;34m:\u001b[0m \u001b[0mstr\u001b[0m\u001b[0;34m(\u001b[0m\u001b[0mdatetime\u001b[0m\u001b[0;34m.\u001b[0m\u001b[0mnow\u001b[0m\u001b[0;34m(\u001b[0m\u001b[0;34m)\u001b[0m\u001b[0;34m)\u001b[0m\u001b[0;34m}\u001b[0m\u001b[0;34m\u001b[0m\u001b[0;34m\u001b[0m\u001b[0m\n\u001b[1;32m     10\u001b[0m   \u001b[0mcliente\u001b[0m\u001b[0;34m.\u001b[0m\u001b[0mput_record\u001b[0m\u001b[0;34m(\u001b[0m\u001b[0mStreamName\u001b[0m \u001b[0;34m=\u001b[0m \u001b[0;34m'tmawindfarm'\u001b[0m\u001b[0;34m,\u001b[0m \u001b[0mData\u001b[0m \u001b[0;34m=\u001b[0m \u001b[0mjson\u001b[0m\u001b[0;34m.\u001b[0m\u001b[0mdumps\u001b[0m\u001b[0;34m(\u001b[0m\u001b[0mregistro\u001b[0m\u001b[0;34m)\u001b[0m\u001b[0;34m,\u001b[0m \u001b[0mPartitionKey\u001b[0m \u001b[0;34m=\u001b[0m \u001b[0;34m'02'\u001b[0m\u001b[0;34m)\u001b[0m\u001b[0;34m\u001b[0m\u001b[0;34m\u001b[0m\u001b[0m\n\u001b[0;32m---> 11\u001b[0;31m   \u001b[0mtime\u001b[0m\u001b[0;34m.\u001b[0m\u001b[0msleep\u001b[0m\u001b[0;34m(\u001b[0m\u001b[0;36m10\u001b[0m\u001b[0;34m)\u001b[0m\u001b[0;34m\u001b[0m\u001b[0;34m\u001b[0m\u001b[0m\n\u001b[0m",
            "\u001b[0;31mKeyboardInterrupt\u001b[0m: "
          ]
        }
      ],
      "source": [
        "# conexão com o Kinesis\n",
        "cliente = boto3.client('kinesis',aws_access_key_id='keyID', aws_secret_access_key='accesskey',\n",
        "                       region_name='us-east-1')\n",
        "\n",
        "id = 0 #identificador do registro\n",
        "\n",
        "while True:\n",
        "  dados = uniform(0.7,1)\n",
        "  id += 1;\n",
        "  registro = {'idtemp' : str(id), 'data' : str(dados), 'type' : 'powerfactor', 'timestamp' : str(datetime.now())}\n",
        "  cliente.put_record(StreamName = 'tmawindfarm', Data = json.dumps(registro), PartitionKey = '02')\n",
        "  time.sleep(10)"
      ]
    },
    {
      "cell_type": "markdown",
      "metadata": {
        "id": "JwJsVKHp7zcx"
      },
      "source": [
        "### OBS.: Erro ocorrido por pausa no processamento de dados."
      ]
    }
  ],
  "metadata": {
    "colab": {
      "provenance": []
    },
    "kernelspec": {
      "display_name": "Python 3",
      "name": "python3"
    },
    "language_info": {
      "name": "python"
    }
  },
  "nbformat": 4,
  "nbformat_minor": 0
}
