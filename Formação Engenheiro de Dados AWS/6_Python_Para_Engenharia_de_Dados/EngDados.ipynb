{
  "cells": [
    {
      "cell_type": "code",
      "execution_count": 2,
      "metadata": {
        "id": "oqrmasGqA1jW"
      },
      "outputs": [],
      "source": [
        "import psycopg2\n",
        "con = psycopg2.connect(host='database-1.cuf8rlopzxtf.us-east-1.rds.amazonaws.com',database='user',\n",
        "                       user='user',password='password')\n",
        "con.autocommit = True\n",
        "cur = con.cursor()\n",
        "cur.execute('create database inventario;')\n",
        "con.close()"
      ]
    },
    {
      "cell_type": "code",
      "execution_count": 3,
      "metadata": {
        "id": "kEKbyFtBBGQN"
      },
      "outputs": [],
      "source": [
        "import psycopg2\n",
        "con = psycopg2.connect(host='database-1.cuf8rlopzxtf.us-east-1.rds.amazonaws.com',database='inventario',\n",
        "                       user='user',password='password')\n",
        "con.autocommit = True\n",
        "cur = con.cursor()\n",
        "cur.execute('create table arquivos (idarquivo INT, nomearquivo VARCHAR(256));')\n",
        "con.close()"
      ]
    },
    {
      "cell_type": "code",
      "execution_count": null,
      "metadata": {
        "id": "KrbaQzHiCi3u"
      },
      "outputs": [],
      "source": [
        "!pip install boto3"
      ]
    },
    {
      "cell_type": "code",
      "execution_count": 8,
      "metadata": {
        "id": "M22p71ypDUbI"
      },
      "outputs": [],
      "source": [
        "import boto3\n",
        "import io\n",
        "import psycopg2\n",
        "\n",
        "s3 = boto3.resource(\n",
        "    service_name='s3',\n",
        "    region_name = 'sa-east-1',\n",
        "    aws_access_key_id = '<-- Key ID -->',\n",
        "    aws_secret_access_key = '<-- Secret Key -->'\n",
        "    )\n",
        "\n",
        "bucket = 'imagensengdados123'\n",
        "prefix = 'imagens/'\n",
        "\n",
        "con = psycopg2.connect(host='database-1.cuf8rlopzxtf.us-east-1.rds.amazonaws.com',database='inventario',\n",
        "                       user='user',password='password')\n",
        "con.autocommit = True\n",
        "cur = con.cursor()\n",
        "id = 0\n",
        "\n",
        "for objects_s3 in s3.Bucket(bucket).objects.filter(Prefix=prefix):\n",
        "  if objects_s3.key.endswith('jpg') or objects_s3.key.endswith('JPG'):\n",
        "    filename = objects_s3.key.split('/')[1]\n",
        "    #print(filename)\n",
        "    id += 1\n",
        "    cur.execute(\"insert into arquivos (idarquivo,nomearquivo) values (\" +str(id)+ \",'\" + filename + \"')\")\n",
        "\n",
        "con.close()\n"
      ]
    },
    {
      "cell_type": "code",
      "execution_count": 10,
      "metadata": {
        "colab": {
          "base_uri": "https://localhost:8080/"
        },
        "id": "JDoKhmKKFK9n",
        "outputId": "89a85785-df89-4de5-ec96-ffcb66ae2e34"
      },
      "outputs": [
        {
          "name": "stdout",
          "output_type": "stream",
          "text": [
            "(1, 'avenue-g9ad8b9b60_640.jpg')\n",
            "(2, 'dandelion-ge4c90edd8_640.jpg')\n",
            "(3, 'fantasy-g95f970a56_640.jpg')\n",
            "(4, 'garden-g42e486784_640.jpg')\n",
            "(5, 'pink-ge82d54651_640.jpg')\n",
            "(6, 'road-g37132565b_640.jpg')\n",
            "(7, 'road-g41ea28d46_640.jpg')\n",
            "(8, 'sunset-gac16749a1_640.jpg')\n",
            "(9, 'tree-g386d6021c_640.jpg')\n",
            "(10, 'tree-gd34ff2fcb_640.jpg')\n"
          ]
        }
      ],
      "source": [
        "import psycopg2\n",
        "con = psycopg2.connect(host='database-1.cuf8rlopzxtf.us-east-1.rds.amazonaws.com',database='inventario',\n",
        "                       user='user',password='password')\n",
        "con.autocommit = True\n",
        "cur = con.cursor()\n",
        "cur.execute('select * from arquivos;')\n",
        "recset = cur.fetchall()\n",
        "for rec in recset:\n",
        "  print(rec)\n",
        "con.close()"
      ]
    },
    {
      "cell_type": "code",
      "execution_count": null,
      "metadata": {
        "id": "RJapmZCvIjfq"
      },
      "outputs": [],
      "source": []
    }
  ],
  "metadata": {
    "colab": {
      "provenance": []
    },
    "kernelspec": {
      "display_name": "Python 3",
      "name": "python3"
    },
    "language_info": {
      "name": "python"
    }
  },
  "nbformat": 4,
  "nbformat_minor": 0
}
